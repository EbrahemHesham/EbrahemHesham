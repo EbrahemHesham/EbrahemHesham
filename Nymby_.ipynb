{
  "nbformat": 4,
  "nbformat_minor": 0,
  "metadata": {
    "colab": {
      "provenance": [],
      "collapsed_sections": [],
      "mount_file_id": "174YBFmlVcQ8BmLKWntNvpJpTre2NzAlc",
      "authorship_tag": "ABX9TyNROhF7sRDwrEFY6C9hkn0/",
      "include_colab_link": true
    },
    "kernelspec": {
      "name": "python3",
      "display_name": "Python 3"
    },
    "language_info": {
      "name": "python"
    },
    "accelerator": "GPU"
  },
  "cells": [
    {
      "cell_type": "markdown",
      "metadata": {
        "id": "view-in-github",
        "colab_type": "text"
      },
      "source": [
        "<a href=\"https://colab.research.google.com/github/EbrahemHesham/EbrahemHesham/blob/main/Nymby_.ipynb\" target=\"_parent\"><img src=\"https://colab.research.google.com/assets/colab-badge.svg\" alt=\"Open In Colab\"/></a>"
      ]
    },
    {
      "cell_type": "code",
      "execution_count": 2,
      "metadata": {
        "colab": {
          "base_uri": "https://localhost:8080/"
        },
        "id": "lMwKNZM6Sj3m",
        "outputId": "9bad5711-c50b-41d7-cd89-c58daf57751d"
      },
      "outputs": [
        {
          "output_type": "stream",
          "name": "stdout",
          "text": [
            "Looking in indexes: https://pypi.org/simple, https://us-python.pkg.dev/colab-wheels/public/simple/\n",
            "Requirement already satisfied: numpy in /usr/local/lib/python3.7/dist-packages (1.21.6)\n"
          ]
        }
      ],
      "source": [
        "!pip install numpy"
      ]
    },
    {
      "cell_type": "code",
      "source": [
        "import numpy as np\n",
        "myarray=np.array([10,20,30,40])\n",
        "print(myarray)\n",
        "print(type(myarray))\n"
      ],
      "metadata": {
        "colab": {
          "base_uri": "https://localhost:8080/"
        },
        "id": "7_ZPTHija-63",
        "outputId": "d23e4e66-baa6-4b5e-e66c-987a201bae1e"
      },
      "execution_count": null,
      "outputs": [
        {
          "output_type": "stream",
          "name": "stdout",
          "text": [
            "[10 20 30 40]\n",
            "<class 'numpy.ndarray'>\n"
          ]
        }
      ]
    },
    {
      "cell_type": "code",
      "source": [
        "print(myarray.shape)\n",
        "print(myarray[0])\n",
        "myarray[0]=3245\n",
        "print(myarray[0])\n",
        "print(myarray)"
      ],
      "metadata": {
        "colab": {
          "base_uri": "https://localhost:8080/"
        },
        "id": "ePw5XtsWlGCZ",
        "outputId": "b9f41e56-cc11-4c54-f0e8-144944144f21"
      },
      "execution_count": null,
      "outputs": [
        {
          "output_type": "stream",
          "name": "stdout",
          "text": [
            "(4,)\n",
            "3245\n",
            "3245\n",
            "[3245   20   30   40]\n"
          ]
        }
      ]
    },
    {
      "cell_type": "code",
      "source": [
        "import numpy as np\n",
        "my_array=np.array([[10,20,30,40],[50,60,70,80]])\n",
        "print(my_array)\n",
        "print(my_array.shape)\n",
        "print(type(my_array))\n"
      ],
      "metadata": {
        "colab": {
          "base_uri": "https://localhost:8080/"
        },
        "id": "GeKu-lxyc4O_",
        "outputId": "1203c075-92a6-473b-e04e-0514c32b8705"
      },
      "execution_count": 4,
      "outputs": [
        {
          "output_type": "stream",
          "name": "stdout",
          "text": [
            "[[10 20 30 40]\n",
            " [50 60 70 80]]\n",
            "(2, 4)\n",
            "<class 'numpy.ndarray'>\n"
          ]
        }
      ]
    },
    {
      "cell_type": "code",
      "source": [
        "y=np.array([1,2,3,4,5,6])\n",
        "print(y)\n",
        "print(y[0:3])"
      ],
      "metadata": {
        "colab": {
          "base_uri": "https://localhost:8080/"
        },
        "id": "FUl5SlHveMfh",
        "outputId": "cbcd7e3e-6067-44a0-f536-808fb887a7de"
      },
      "execution_count": 6,
      "outputs": [
        {
          "output_type": "stream",
          "name": "stdout",
          "text": [
            "[1 2 3 4 5 6]\n",
            "[1 2 3]\n"
          ]
        }
      ]
    },
    {
      "cell_type": "code",
      "source": [
        "xy=np.array([[10,20,30],[50,60,70]])\n",
        "# print(xy)\n",
        "print(xy[1:2,1:2])"
      ],
      "metadata": {
        "colab": {
          "base_uri": "https://localhost:8080/"
        },
        "id": "boKKacqzj5lk",
        "outputId": "8549f107-c428-49f9-b123-d3ad9e5e8f8d"
      },
      "execution_count": 12,
      "outputs": [
        {
          "output_type": "stream",
          "name": "stdout",
          "text": [
            "[[60]]\n"
          ]
        }
      ]
    },
    {
      "cell_type": "code",
      "source": [
        "zeroarray=np.zeros((3,3))\n",
        "# print(zeroarray)\n",
        "onarray=np.ones((3,3))\n",
        "# print(onarray)\n",
        "constant_type_array=np.full((3,3),7)\n",
        "# print(constant_type_array)\n",
        "eyearray=np.eye(4)\n",
        "# print(eyearray)\n",
        "# most important array is random array\n",
        "Random_matrix=np.random.random((3,3))\n",
        "# print(Random_matrix)\n",
        "# print(Random_matrix[0:2])"
      ],
      "metadata": {
        "colab": {
          "base_uri": "https://localhost:8080/"
        },
        "id": "GSa5OmNplDjc",
        "outputId": "69b61787-61bb-42ee-e969-fe0a9ef0dfee"
      },
      "execution_count": 24,
      "outputs": [
        {
          "output_type": "stream",
          "name": "stdout",
          "text": [
            "[[0.18972819 0.5874934  0.36543859]\n",
            " [0.32717076 0.31222005 0.44310541]]\n"
          ]
        }
      ]
    },
    {
      "cell_type": "code",
      "source": [
        "# Random_matrix=np.random.random((3,3),dtype=np.int64)\n",
        "\n",
        "q=np.array([[1,2],[5,4]])\n",
        "print(q.dtype)\n",
        "\n",
        "s=np.random.random((3,3))\n",
        "print(s.dtype)\n",
        "\n",
        "f=np.array([1.3,2.4,4.5],dtype=np.int64)\n",
        "print(f)"
      ],
      "metadata": {
        "colab": {
          "base_uri": "https://localhost:8080/"
        },
        "id": "nFARvdHyqyF0",
        "outputId": "a9fb4ce9-b8f5-4727-93af-7d99ff80f4af"
      },
      "execution_count": 30,
      "outputs": [
        {
          "output_type": "stream",
          "name": "stdout",
          "text": [
            "int64\n",
            "float64\n",
            "[1 2 4]\n"
          ]
        }
      ]
    },
    {
      "cell_type": "code",
      "source": [
        "# Arithmetic operations\n",
        "y=np.array([[1,2,3],[4,5,6]])\n",
        "x=np.array([[10,20,30],[40,50,60]])\n",
        "print(y.shape)\n",
        "print(x.shape)\n",
        "\n",
        "\n"
      ],
      "metadata": {
        "colab": {
          "base_uri": "https://localhost:8080/"
        },
        "id": "ZwVsK-5nsW9c",
        "outputId": "ced9fd61-673f-4b6e-da3c-ccde18f673e4"
      },
      "execution_count": 36,
      "outputs": [
        {
          "output_type": "stream",
          "name": "stdout",
          "text": [
            "(2, 3)\n",
            "(2, 3)\n"
          ]
        }
      ]
    },
    {
      "cell_type": "code",
      "source": [
        "print(x+y)  "
      ],
      "metadata": {
        "colab": {
          "base_uri": "https://localhost:8080/"
        },
        "id": "ZaiuDirptAvo",
        "outputId": "a7c66221-93c7-4e32-886a-ff00aba55b0d"
      },
      "execution_count": 37,
      "outputs": [
        {
          "output_type": "stream",
          "name": "stdout",
          "text": [
            "[[11 22 33]\n",
            " [44 55 66]]\n"
          ]
        }
      ]
    },
    {
      "cell_type": "code",
      "source": [
        "print(np.add(x,y))"
      ],
      "metadata": {
        "colab": {
          "base_uri": "https://localhost:8080/"
        },
        "id": "uJdn99IktFNR",
        "outputId": "bcbe7ee6-d132-4b58-b9ee-271e275a8aea"
      },
      "execution_count": 38,
      "outputs": [
        {
          "output_type": "stream",
          "name": "stdout",
          "text": [
            "[[11 22 33]\n",
            " [44 55 66]]\n"
          ]
        }
      ]
    },
    {
      "cell_type": "code",
      "source": [
        "print(np.subtract(x,y))"
      ],
      "metadata": {
        "colab": {
          "base_uri": "https://localhost:8080/"
        },
        "id": "rYwCfVfwtVWw",
        "outputId": "62becce5-0b43-4560-d679-16705da4d25a"
      },
      "execution_count": 39,
      "outputs": [
        {
          "output_type": "stream",
          "name": "stdout",
          "text": [
            "[[ 9 18 27]\n",
            " [36 45 54]]\n"
          ]
        }
      ]
    },
    {
      "cell_type": "code",
      "source": [
        "print(np.multiply(x,y))"
      ],
      "metadata": {
        "colab": {
          "base_uri": "https://localhost:8080/"
        },
        "id": "6UZd5SsutahV",
        "outputId": "10177988-3e60-47f6-f167-f910f955a749"
      },
      "execution_count": 40,
      "outputs": [
        {
          "output_type": "stream",
          "name": "stdout",
          "text": [
            "[[ 10  40  90]\n",
            " [160 250 360]]\n"
          ]
        }
      ]
    },
    {
      "cell_type": "code",
      "source": [
        "print(np.divide(x,y))"
      ],
      "metadata": {
        "colab": {
          "base_uri": "https://localhost:8080/"
        },
        "id": "_phnRhXNtasx",
        "outputId": "0820d020-3175-48ef-efce-92754b662f15"
      },
      "execution_count": 41,
      "outputs": [
        {
          "output_type": "stream",
          "name": "stdout",
          "text": [
            "[[10. 10. 10.]\n",
            " [10. 10. 10.]]\n"
          ]
        }
      ]
    },
    {
      "cell_type": "code",
      "source": [
        "print(np.sqrt((y)))"
      ],
      "metadata": {
        "colab": {
          "base_uri": "https://localhost:8080/"
        },
        "id": "5G7UnyLPtn5n",
        "outputId": "89e5d864-41bb-4cb0-c257-cfb970e18c78"
      },
      "execution_count": 45,
      "outputs": [
        {
          "output_type": "stream",
          "name": "stdout",
          "text": [
            "[[1.         1.41421356 1.73205081]\n",
            " [2.         2.23606798 2.44948974]]\n"
          ]
        }
      ]
    },
    {
      "cell_type": "code",
      "source": [
        "print(y)"
      ],
      "metadata": {
        "id": "MmPicjgwt1-r"
      },
      "execution_count": null,
      "outputs": []
    },
    {
      "cell_type": "code",
      "source": [
        "ynew=np.sqrt(y)\n",
        "# print(ynew)\n",
        "xnew=np.divide(y,x)\n",
        "# print(xnew)\n",
        "z=np.multiply(xnew,ynew)\n",
        "print(z)"
      ],
      "metadata": {
        "colab": {
          "base_uri": "https://localhost:8080/"
        },
        "id": "wcdi3ip_t5Zv",
        "outputId": "060fb92c-57c8-4d89-fdda-dc8012615ceb"
      },
      "execution_count": 53,
      "outputs": [
        {
          "output_type": "stream",
          "name": "stdout",
          "text": [
            "[[0.1        0.14142136 0.17320508]\n",
            " [0.2        0.2236068  0.24494897]]\n"
          ]
        }
      ]
    },
    {
      "cell_type": "code",
      "source": [
        "# Dot product\n",
        "import numpy as пр\n",
        "x=np.array([[1,2],[3,4]])\n",
        "y=np.array([[5,6],[7,8]])\n",
        "v=np.array([9,10])\n",
        "w = np.array([11, 12])\n",
        "print( 'shape of x ',x.shape)\n",
        "print('shape of y', y.shape)\n",
        "print(v.dot(w))\n",
        "print(x.dot(v))\n",
        "print(x.dot(y))\n"
      ],
      "metadata": {
        "colab": {
          "base_uri": "https://localhost:8080/"
        },
        "id": "aZz7P1svuxd6",
        "outputId": "8564b321-a5a2-477e-978f-2f1903eb7f2e"
      },
      "execution_count": 58,
      "outputs": [
        {
          "output_type": "stream",
          "name": "stdout",
          "text": [
            "shape of x  (2, 2)\n",
            "shape of y (2, 2)\n",
            "219\n",
            "[29 67]\n",
            "[[19 22]\n",
            " [43 50]]\n"
          ]
        }
      ]
    },
    {
      "cell_type": "code",
      "source": [
        "# Transpose\n",
        "import numpy as np\n",
        "x=np.array([[1,2],[3,4]])\n",
        "print('original matrix', x)\n",
        "print('transpose matrix',x.T)"
      ],
      "metadata": {
        "colab": {
          "base_uri": "https://localhost:8080/"
        },
        "id": "892-p1WzwObv",
        "outputId": "f0908aa0-13e2-48e7-8db8-4eccbe55fcaa"
      },
      "execution_count": 64,
      "outputs": [
        {
          "output_type": "stream",
          "name": "stdout",
          "text": [
            "original matrix [[1 2]\n",
            " [3 4]]\n",
            "transpose matrix [[1 3]\n",
            " [2 4]]\n"
          ]
        }
      ]
    },
    {
      "cell_type": "code",
      "source": [
        "# Tile broadcasting\n",
        "import numpy as пр\n",
        "x=np.array([[1,2,3],[4,5,6],[7,8,9],[10,11,12]])\n",
        "v=np.array((1,0,1))\n",
        "vv=np.tile(v,(4,1))\n",
        "# print(vv)\n",
        "sum_of_vectors=x+vv\n",
        "print(sum_of_vectors)\n",
        "# print(x)\n",
        "# print(v)\n",
        "# print(x.shape)\n",
        "# print(v.shape)\n"
      ],
      "metadata": {
        "colab": {
          "base_uri": "https://localhost:8080/"
        },
        "id": "cUuQG8bYw0yX",
        "outputId": "e9383e4c-43b5-467c-d888-a8f4a62dffd5"
      },
      "execution_count": 73,
      "outputs": [
        {
          "output_type": "stream",
          "name": "stdout",
          "text": [
            "[[ 2  2  4]\n",
            " [ 5  5  7]\n",
            " [ 8  8 10]\n",
            " [11 11 13]]\n"
          ]
        }
      ]
    },
    {
      "cell_type": "code",
      "source": [
        "# Broadcasting without tile\n",
        "x=np.array([[1,2,3],[4,5,6],[7,8,9],[10,11,12]])\n",
        "v=np.array((1,0,1))\n",
        "sum=x+v\n",
        "print(sum)"
      ],
      "metadata": {
        "colab": {
          "base_uri": "https://localhost:8080/"
        },
        "id": "V5XLT2Q_xyz7",
        "outputId": "e92a58f3-732d-4735-8ef2-90cd254c6016"
      },
      "execution_count": 74,
      "outputs": [
        {
          "output_type": "stream",
          "name": "stdout",
          "text": [
            "[[ 2  2  4]\n",
            " [ 5  5  7]\n",
            " [ 8  8 10]\n",
            " [11 11 13]]\n"
          ]
        }
      ]
    }
  ]
}